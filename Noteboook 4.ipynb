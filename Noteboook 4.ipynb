{
 "cells": [
  {
   "cell_type": "markdown",
   "metadata": {},
   "source": [
    "# Bridging the Gap Between Purpose and Profit: Analysing the Practice of Impact Investing in Family Offices\n",
    "\n",
    "### How are philanthrocapitalist investment priorities evolving across geographies, and what does the language of family office reports reveal about the globalisation of purpose-driven finance?\n",
    "\n",
    "Steps in order how they are written in the academic study:\n",
    "- EDA (keyword analysis)\n",
    "- n-gram analysis\n",
    "- NER\n",
    "- semantic similarity "
   ]
  },
  {
   "cell_type": "code",
   "execution_count": 3,
   "metadata": {},
   "outputs": [],
   "source": [
    "#check that i need all of these packages\n",
    "import nltk\n",
    "import string\n",
    "import PyPDF2\n",
    "import os\n",
    "import spacy\n",
    "import string\n",
    "import numpy as np\n",
    "\n",
    "nlp = spacy.load('en_core_web_sm')\n",
    "\n",
    "import matplotlib.pyplot as plt\n",
    "from collections import Counter, defaultdict\n",
    "\n",
    "\n",
    "from sklearn.feature_extraction.text import CountVectorizer\n",
    "from sklearn.feature_extraction.text import TfidfVectorizer\n",
    "import pandas as pd\n",
    "\n",
    "from gensim import corpora\n",
    "from gensim.models.ldamodel import LdaModel\n",
    "from gensim.models import Phrases\n",
    "from gensim.models.phrases import Phraser\n",
    "\n",
    "from wordcloud import WordCloud\n",
    "import pandas as pd\n",
    "\n",
    "import networkx as nx\n",
    "from itertools import combinations\n",
    "from networkx.algorithms import community\n",
    "\n",
    "from scipy.spatial.distance import pdist, squareform\n",
    "from scipy.cluster.hierarchy import linkage, dendrogram\n",
    "\n",
    "from sentence_transformers import SentenceTransformer, util"
   ]
  },
  {
   "cell_type": "code",
   "execution_count": null,
   "metadata": {},
   "outputs": [],
   "source": []
  }
 ],
 "metadata": {
  "kernelspec": {
   "display_name": ".venv",
   "language": "python",
   "name": "python3"
  },
  "language_info": {
   "codemirror_mode": {
    "name": "ipython",
    "version": 3
   },
   "file_extension": ".py",
   "mimetype": "text/x-python",
   "name": "python",
   "nbconvert_exporter": "python",
   "pygments_lexer": "ipython3",
   "version": "3.12.6"
  }
 },
 "nbformat": 4,
 "nbformat_minor": 2
}
