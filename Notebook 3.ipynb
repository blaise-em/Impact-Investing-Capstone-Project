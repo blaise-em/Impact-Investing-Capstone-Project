{
 "cells": [
  {
   "cell_type": "code",
   "execution_count": 1,
   "metadata": {},
   "outputs": [],
   "source": [
    "import nltk\n",
    "import string\n",
    "import PyPDF2\n",
    "import os\n",
    "import spacy\n",
    "import string\n",
    "import numpy as np\n",
    "\n",
    "nlp = spacy.load('en_core_web_sm')\n",
    "\n",
    "import matplotlib.pyplot as plt\n",
    "from collections import Counter\n",
    "\n",
    "from sklearn.feature_extraction.text import CountVectorizer\n",
    "import pandas as pd\n",
    "\n",
    "from gensim import corpora\n",
    "from gensim.models.ldamodel import LdaModel\n",
    "from gensim.models import Phrases\n",
    "from gensim.models.phrases import Phraser\n",
    "\n",
    "from wordcloud import WordCloud\n",
    "import pandas as pd\n"
   ]
  },
  {
   "cell_type": "markdown",
   "metadata": {},
   "source": [
    "### Uploading Reports"
   ]
  },
  {
   "cell_type": "code",
   "execution_count": 2,
   "metadata": {},
   "outputs": [],
   "source": [
    "#Loop that goes through each of the reports in the 'reports' folder, and turns them into strings, and removes the line breaks.\n",
    "\n",
    "pdf_folder = 'reports'\n",
    "pdf_texts = {}\n",
    "\n",
    "# Loop through all PDFs\n",
    "for filename in os.listdir(pdf_folder):\n",
    "    if filename.endswith('.pdf'):\n",
    "        report_name = filename.replace('.pdf', '').lower()\n",
    "        with open(os.path.join(pdf_folder, filename), 'rb') as file:\n",
    "            reader = PyPDF2.PdfReader(file)\n",
    "            text = \"\"\n",
    "            for page in reader.pages:\n",
    "                content = page.extract_text()\n",
    "                if content:\n",
    "                    text += content + \"\\n\"\n",
    "            pdf_texts[report_name] = text"
   ]
  },
  {
   "cell_type": "code",
   "execution_count": 7,
   "metadata": {},
   "outputs": [
    {
     "ename": "KeyError",
     "evalue": "'pwc_22.pdf'",
     "output_type": "error",
     "traceback": [
      "\u001b[31m---------------------------------------------------------------------------\u001b[39m",
      "\u001b[31mKeyError\u001b[39m                                  Traceback (most recent call last)",
      "\u001b[36mCell\u001b[39m\u001b[36m \u001b[39m\u001b[32mIn[7]\u001b[39m\u001b[32m, line 7\u001b[39m\n\u001b[32m      5\u001b[39m pwc24 = pdf_texts[\u001b[33m'\u001b[39m\u001b[33mpwc_24\u001b[39m\u001b[33m'\u001b[39m]\n\u001b[32m      6\u001b[39m pwc23 = pdf_texts[\u001b[33m'\u001b[39m\u001b[33mpwc_23\u001b[39m\u001b[33m'\u001b[39m]\n\u001b[32m----> \u001b[39m\u001b[32m7\u001b[39m pwc22 = \u001b[43mpdf_texts\u001b[49m\u001b[43m[\u001b[49m\u001b[33;43m'\u001b[39;49m\u001b[33;43mpwc_22.pdf\u001b[39;49m\u001b[33;43m'\u001b[39;49m\u001b[43m]\u001b[49m\n\u001b[32m      8\u001b[39m \u001b[38;5;66;03m# There was no PWC 2021 report, but i chose to continue without it\u001b[39;00m\n\u001b[32m      9\u001b[39m citi24 = pdf_texts[\u001b[33m'\u001b[39m\u001b[33mciti_24\u001b[39m\u001b[33m'\u001b[39m]\n",
      "\u001b[31mKeyError\u001b[39m: 'pwc_22.pdf'"
     ]
    }
   ],
   "source": [
    "ubs24 = pdf_texts['ubs_24']\n",
    "ubs23 = pdf_texts['ubs_23']\n",
    "ubs22 = pdf_texts['ubs_22']\n",
    "ubs21 = pdf_texts['ubs_21']\n",
    "pwc24 = pdf_texts['pwc_24']\n",
    "pwc23 = pdf_texts['pwc_23']\n",
    "# There was no PWC 2021 report, but i chose to continue without it\n",
    "citi24 = pdf_texts['citi_24']\n",
    "citi23 = pdf_texts['citi_23']\n",
    "citi22 = pdf_texts['citi_22']\n",
    "citi21 = pdf_texts['citi_21']\n",
    "campden24 = pdf_texts['campden_24']\n",
    "campden23 = pdf_texts['campden_23']\n",
    "campden22 = pdf_texts['campden_22']\n",
    "campden21 = pdf_texts['campden_21']"
   ]
  },
  {
   "cell_type": "code",
   "execution_count": null,
   "metadata": {},
   "outputs": [],
   "source": []
  }
 ],
 "metadata": {
  "kernelspec": {
   "display_name": ".venv",
   "language": "python",
   "name": "python3"
  },
  "language_info": {
   "codemirror_mode": {
    "name": "ipython",
    "version": 3
   },
   "file_extension": ".py",
   "mimetype": "text/x-python",
   "name": "python",
   "nbconvert_exporter": "python",
   "pygments_lexer": "ipython3",
   "version": "3.12.6"
  }
 },
 "nbformat": 4,
 "nbformat_minor": 2
}
